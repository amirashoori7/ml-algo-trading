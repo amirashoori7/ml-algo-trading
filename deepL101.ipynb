{
 "cells": [
  {
   "cell_type": "raw",
   "id": "a9e90ce2",
   "metadata": {},
   "source": [
    "Deep Learning Intro with python, tensorflow, keras\n",
    "Here is the most common HelloWorld! example of deep learning which is \"mnist dataset\" of hand-written digits\n",
    "\n",
    "A basic neural network consists of an input layer (data)\n",
    "After this, there are some number of hidden layers (layers between input-output)\n",
    "1 hidden layer = 1 neural network\n",
    "2=< hidden layers = deep neural network\n",
    "\n",
    "with single hidden layer, the model is going to only learn linear relationships\n",
    "\n",
    "A single neuron is just sum of all of the inputs weights fed through some sort of Activation Function\n",
    "\n",
    "The Activation Fn is meant to stimulate a neuron firing or not\n"
   ]
  },
  {
   "cell_type": "code",
   "execution_count": null,
   "id": "f28060ab",
   "metadata": {},
   "outputs": [],
   "source": [
    "import tensorflow.keras as keras\n",
    "import tensorflow as tf\n",
    "\n",
    "mnist = tf.keras.datasets.mnist\n",
    "(x_train, y_train), (x_test, y_test) = mnist.load_data()\n",
    "\n",
    "print(x_train[0])"
   ]
  },
  {
   "cell_type": "code",
   "execution_count": null,
   "id": "c143e46b",
   "metadata": {},
   "outputs": [],
   "source": []
  }
 ],
 "metadata": {
  "kernelspec": {
   "display_name": "Python 3",
   "language": "python",
   "name": "python3"
  },
  "language_info": {
   "codemirror_mode": {
    "name": "ipython",
    "version": 3
   },
   "file_extension": ".py",
   "mimetype": "text/x-python",
   "name": "python",
   "nbconvert_exporter": "python",
   "pygments_lexer": "ipython3",
   "version": "3.6.15"
  }
 },
 "nbformat": 4,
 "nbformat_minor": 5
}
