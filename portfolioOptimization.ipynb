{
 "cells": [
  {
   "cell_type": "code",
   "execution_count": 1,
   "id": "215a8634",
   "metadata": {},
   "outputs": [],
   "source": [
    "#Import required PyLibs\n",
    "from pandas_datareader import data as web\n",
    "import pandas as pd\n",
    "import numpy as np\n",
    "from datetime import datetime\n",
    "import matplotlib.pyplot as plt\n",
    "plt.style.use('fivethirtyeight')"
   ]
  },
  {
   "cell_type": "code",
   "execution_count": 2,
   "id": "c94bd075",
   "metadata": {},
   "outputs": [
    {
     "data": {
      "text/plain": [
       "'2021-11-08'"
      ]
     },
     "execution_count": 2,
     "metadata": {},
     "output_type": "execute_result"
    }
   ],
   "source": [
    "#Get the stock tickers in the portfolio\n",
    "assets = ['AMD','NFLX','AAPL','GOOG']\n",
    "\n",
    "#Assign weights to each stock\n",
    "weights = np.array([0.25,0.25,0.25,0.25])\n",
    "\n",
    "#portfolio starting date\n",
    "stockStartDate = '2016-01-01'\n",
    "\n",
    "#portfolio ending date (today)\n",
    "today = datetime.today().strftime('%Y-%m-%d')\n",
    "today"
   ]
  },
  {
   "cell_type": "code",
   "execution_count": 3,
   "id": "eae4531e",
   "metadata": {},
   "outputs": [],
   "source": [
    "#Create a dataframe to store the adjusted close prices\n",
    "df = pd.DataFrame()\n",
    "\n",
    "for stock in assets:\n",
    "    df[stock] = web.DataReader(stock,data_source='yahoo',start=stockStartDate,end=today)['Adj Close']"
   ]
  },
  {
   "cell_type": "code",
   "execution_count": 4,
   "id": "aadb970f",
   "metadata": {},
   "outputs": [
    {
     "data": {
      "text/html": [
       "<div>\n",
       "<style scoped>\n",
       "    .dataframe tbody tr th:only-of-type {\n",
       "        vertical-align: middle;\n",
       "    }\n",
       "\n",
       "    .dataframe tbody tr th {\n",
       "        vertical-align: top;\n",
       "    }\n",
       "\n",
       "    .dataframe thead th {\n",
       "        text-align: right;\n",
       "    }\n",
       "</style>\n",
       "<table border=\"1\" class=\"dataframe\">\n",
       "  <thead>\n",
       "    <tr style=\"text-align: right;\">\n",
       "      <th></th>\n",
       "      <th>AMD</th>\n",
       "      <th>NFLX</th>\n",
       "      <th>AAPL</th>\n",
       "      <th>GOOG</th>\n",
       "    </tr>\n",
       "    <tr>\n",
       "      <th>Date</th>\n",
       "      <th></th>\n",
       "      <th></th>\n",
       "      <th></th>\n",
       "      <th></th>\n",
       "    </tr>\n",
       "  </thead>\n",
       "  <tbody>\n",
       "    <tr>\n",
       "      <th>2016-01-04</th>\n",
       "      <td>2.770000</td>\n",
       "      <td>109.959999</td>\n",
       "      <td>24.251436</td>\n",
       "      <td>741.840027</td>\n",
       "    </tr>\n",
       "    <tr>\n",
       "      <th>2016-01-05</th>\n",
       "      <td>2.750000</td>\n",
       "      <td>107.660004</td>\n",
       "      <td>23.643715</td>\n",
       "      <td>742.580017</td>\n",
       "    </tr>\n",
       "    <tr>\n",
       "      <th>2016-01-06</th>\n",
       "      <td>2.510000</td>\n",
       "      <td>117.680000</td>\n",
       "      <td>23.181007</td>\n",
       "      <td>743.619995</td>\n",
       "    </tr>\n",
       "    <tr>\n",
       "      <th>2016-01-07</th>\n",
       "      <td>2.280000</td>\n",
       "      <td>114.559998</td>\n",
       "      <td>22.202669</td>\n",
       "      <td>726.390015</td>\n",
       "    </tr>\n",
       "    <tr>\n",
       "      <th>2016-01-08</th>\n",
       "      <td>2.140000</td>\n",
       "      <td>111.389999</td>\n",
       "      <td>22.320070</td>\n",
       "      <td>714.469971</td>\n",
       "    </tr>\n",
       "    <tr>\n",
       "      <th>...</th>\n",
       "      <td>...</td>\n",
       "      <td>...</td>\n",
       "      <td>...</td>\n",
       "      <td>...</td>\n",
       "    </tr>\n",
       "    <tr>\n",
       "      <th>2021-11-01</th>\n",
       "      <td>125.230003</td>\n",
       "      <td>681.169983</td>\n",
       "      <td>148.742920</td>\n",
       "      <td>2875.479980</td>\n",
       "    </tr>\n",
       "    <tr>\n",
       "      <th>2021-11-02</th>\n",
       "      <td>127.629997</td>\n",
       "      <td>677.719971</td>\n",
       "      <td>149.801376</td>\n",
       "      <td>2917.260010</td>\n",
       "    </tr>\n",
       "    <tr>\n",
       "      <th>2021-11-03</th>\n",
       "      <td>130.529999</td>\n",
       "      <td>688.289978</td>\n",
       "      <td>151.269241</td>\n",
       "      <td>2935.800049</td>\n",
       "    </tr>\n",
       "    <tr>\n",
       "      <th>2021-11-04</th>\n",
       "      <td>137.500000</td>\n",
       "      <td>668.400024</td>\n",
       "      <td>150.740005</td>\n",
       "      <td>2973.659912</td>\n",
       "    </tr>\n",
       "    <tr>\n",
       "      <th>2021-11-05</th>\n",
       "      <td>136.339996</td>\n",
       "      <td>645.719971</td>\n",
       "      <td>151.279999</td>\n",
       "      <td>2984.820068</td>\n",
       "    </tr>\n",
       "  </tbody>\n",
       "</table>\n",
       "<p>1473 rows × 4 columns</p>\n",
       "</div>"
      ],
      "text/plain": [
       "                   AMD        NFLX        AAPL         GOOG\n",
       "Date                                                       \n",
       "2016-01-04    2.770000  109.959999   24.251436   741.840027\n",
       "2016-01-05    2.750000  107.660004   23.643715   742.580017\n",
       "2016-01-06    2.510000  117.680000   23.181007   743.619995\n",
       "2016-01-07    2.280000  114.559998   22.202669   726.390015\n",
       "2016-01-08    2.140000  111.389999   22.320070   714.469971\n",
       "...                ...         ...         ...          ...\n",
       "2021-11-01  125.230003  681.169983  148.742920  2875.479980\n",
       "2021-11-02  127.629997  677.719971  149.801376  2917.260010\n",
       "2021-11-03  130.529999  688.289978  151.269241  2935.800049\n",
       "2021-11-04  137.500000  668.400024  150.740005  2973.659912\n",
       "2021-11-05  136.339996  645.719971  151.279999  2984.820068\n",
       "\n",
       "[1473 rows x 4 columns]"
      ]
     },
     "execution_count": 4,
     "metadata": {},
     "output_type": "execute_result"
    }
   ],
   "source": [
    "#Show df\n",
    "df"
   ]
  },
  {
   "cell_type": "code",
   "execution_count": 5,
   "id": "8722c911",
   "metadata": {},
   "outputs": [
    {
     "data": {
      "image/png": "[encoded data removed]",
      "text/plain": [
       "<Figure size 432x288 with 1 Axes>"
      ]
     },
     "metadata": {},
     "output_type": "display_data"
    }
   ],
   "source": [
    "#Visualize data\n",
    "title = 'Portfolio Close Price History'\n",
    "my_stocks = df\n",
    "\n",
    "#Create and plot the graph\n",
    "for c in my_stocks.columns.values:\n",
    "    plt.plot(my_stocks[c],label=c)\n",
    "    \n",
    "plt.title(title)\n",
    "plt.xlabel('Date',fontsize=18)\n",
    "plt.ylabel('Price USD',fontsize=18)\n",
    "plt.legend(my_stocks.columns.values,loc='upper left')\n",
    "plt.show()"
   ]
  },
  {
   "cell_type": "code",
   "execution_count": 6,
   "id": "d9bad043",
   "metadata": {},
   "outputs": [
    {
     "data": {
      "text/html": [
       "<div>\n",
       "<style scoped>\n",
       "    .dataframe tbody tr th:only-of-type {\n",
       "        vertical-align: middle;\n",
       "    }\n",
       "\n",
       "    .dataframe tbody tr th {\n",
       "        vertical-align: top;\n",
       "    }\n",
       "\n",
       "    .dataframe thead th {\n",
       "        text-align: right;\n",
       "    }\n",
       "</style>\n",
       "<table border=\"1\" class=\"dataframe\">\n",
       "  <thead>\n",
       "    <tr style=\"text-align: right;\">\n",
       "      <th></th>\n",
       "      <th>AMD</th>\n",
       "      <th>NFLX</th>\n",
       "      <th>AAPL</th>\n",
       "      <th>GOOG</th>\n",
       "    </tr>\n",
       "    <tr>\n",
       "      <th>Date</th>\n",
       "      <th></th>\n",
       "      <th></th>\n",
       "      <th></th>\n",
       "      <th></th>\n",
       "    </tr>\n",
       "  </thead>\n",
       "  <tbody>\n",
       "    <tr>\n",
       "      <th>2016-01-04</th>\n",
       "      <td>NaN</td>\n",
       "      <td>NaN</td>\n",
       "      <td>NaN</td>\n",
       "      <td>NaN</td>\n",
       "    </tr>\n",
       "    <tr>\n",
       "      <th>2016-01-05</th>\n",
       "      <td>-0.007220</td>\n",
       "      <td>-0.020917</td>\n",
       "      <td>-0.025059</td>\n",
       "      <td>0.000998</td>\n",
       "    </tr>\n",
       "    <tr>\n",
       "      <th>2016-01-06</th>\n",
       "      <td>-0.087273</td>\n",
       "      <td>0.093071</td>\n",
       "      <td>-0.019570</td>\n",
       "      <td>0.001400</td>\n",
       "    </tr>\n",
       "    <tr>\n",
       "      <th>2016-01-07</th>\n",
       "      <td>-0.091633</td>\n",
       "      <td>-0.026513</td>\n",
       "      <td>-0.042204</td>\n",
       "      <td>-0.023170</td>\n",
       "    </tr>\n",
       "    <tr>\n",
       "      <th>2016-01-08</th>\n",
       "      <td>-0.061403</td>\n",
       "      <td>-0.027671</td>\n",
       "      <td>0.005288</td>\n",
       "      <td>-0.016410</td>\n",
       "    </tr>\n",
       "    <tr>\n",
       "      <th>...</th>\n",
       "      <td>...</td>\n",
       "      <td>...</td>\n",
       "      <td>...</td>\n",
       "      <td>...</td>\n",
       "    </tr>\n",
       "    <tr>\n",
       "      <th>2021-11-01</th>\n",
       "      <td>0.041587</td>\n",
       "      <td>-0.013240</td>\n",
       "      <td>-0.005607</td>\n",
       "      <td>-0.030326</td>\n",
       "    </tr>\n",
       "    <tr>\n",
       "      <th>2021-11-02</th>\n",
       "      <td>0.019165</td>\n",
       "      <td>-0.005065</td>\n",
       "      <td>0.007116</td>\n",
       "      <td>0.014530</td>\n",
       "    </tr>\n",
       "    <tr>\n",
       "      <th>2021-11-03</th>\n",
       "      <td>0.022722</td>\n",
       "      <td>0.015596</td>\n",
       "      <td>0.009799</td>\n",
       "      <td>0.006355</td>\n",
       "    </tr>\n",
       "    <tr>\n",
       "      <th>2021-11-04</th>\n",
       "      <td>0.053398</td>\n",
       "      <td>-0.028898</td>\n",
       "      <td>-0.003499</td>\n",
       "      <td>0.012896</td>\n",
       "    </tr>\n",
       "    <tr>\n",
       "      <th>2021-11-05</th>\n",
       "      <td>-0.008436</td>\n",
       "      <td>-0.033932</td>\n",
       "      <td>0.003582</td>\n",
       "      <td>0.003753</td>\n",
       "    </tr>\n",
       "  </tbody>\n",
       "</table>\n",
       "<p>1473 rows × 4 columns</p>\n",
       "</div>"
      ],
      "text/plain": [
       "                 AMD      NFLX      AAPL      GOOG\n",
       "Date                                              \n",
       "2016-01-04       NaN       NaN       NaN       NaN\n",
       "2016-01-05 -0.007220 -0.020917 -0.025059  0.000998\n",
       "2016-01-06 -0.087273  0.093071 -0.019570  0.001400\n",
       "2016-01-07 -0.091633 -0.026513 -0.042204 -0.023170\n",
       "2016-01-08 -0.061403 -0.027671  0.005288 -0.016410\n",
       "...              ...       ...       ...       ...\n",
       "2021-11-01  0.041587 -0.013240 -0.005607 -0.030326\n",
       "2021-11-02  0.019165 -0.005065  0.007116  0.014530\n",
       "2021-11-03  0.022722  0.015596  0.009799  0.006355\n",
       "2021-11-04  0.053398 -0.028898 -0.003499  0.012896\n",
       "2021-11-05 -0.008436 -0.033932  0.003582  0.003753\n",
       "\n",
       "[1473 rows x 4 columns]"
      ]
     },
     "execution_count": 6,
     "metadata": {},
     "output_type": "execute_result"
    }
   ],
   "source": [
    "# show the Daily simple return\n",
    "returns = df.pct_change()\n",
    "returns"
   ]
  },
  {
   "cell_type": "code",
   "execution_count": 7,
   "id": "801197da",
   "metadata": {},
   "outputs": [
    {
     "data": {
      "text/html": [
       "<div>\n",
       "<style scoped>\n",
       "    .dataframe tbody tr th:only-of-type {\n",
       "        vertical-align: middle;\n",
       "    }\n",
       "\n",
       "    .dataframe tbody tr th {\n",
       "        vertical-align: top;\n",
       "    }\n",
       "\n",
       "    .dataframe thead th {\n",
       "        text-align: right;\n",
       "    }\n",
       "</style>\n",
       "<table border=\"1\" class=\"dataframe\">\n",
       "  <thead>\n",
       "    <tr style=\"text-align: right;\">\n",
       "      <th></th>\n",
       "      <th>AMD</th>\n",
       "      <th>NFLX</th>\n",
       "      <th>AAPL</th>\n",
       "      <th>GOOG</th>\n",
       "    </tr>\n",
       "  </thead>\n",
       "  <tbody>\n",
       "    <tr>\n",
       "      <th>AMD</th>\n",
       "      <td>0.383963</td>\n",
       "      <td>0.080380</td>\n",
       "      <td>0.073308</td>\n",
       "      <td>0.054801</td>\n",
       "    </tr>\n",
       "    <tr>\n",
       "      <th>NFLX</th>\n",
       "      <td>0.080380</td>\n",
       "      <td>0.156414</td>\n",
       "      <td>0.052598</td>\n",
       "      <td>0.051679</td>\n",
       "    </tr>\n",
       "    <tr>\n",
       "      <th>AAPL</th>\n",
       "      <td>0.073308</td>\n",
       "      <td>0.052598</td>\n",
       "      <td>0.086593</td>\n",
       "      <td>0.049199</td>\n",
       "    </tr>\n",
       "    <tr>\n",
       "      <th>GOOG</th>\n",
       "      <td>0.054801</td>\n",
       "      <td>0.051679</td>\n",
       "      <td>0.049199</td>\n",
       "      <td>0.067953</td>\n",
       "    </tr>\n",
       "  </tbody>\n",
       "</table>\n",
       "</div>"
      ],
      "text/plain": [
       "           AMD      NFLX      AAPL      GOOG\n",
       "AMD   0.383963  0.080380  0.073308  0.054801\n",
       "NFLX  0.080380  0.156414  0.052598  0.051679\n",
       "AAPL  0.073308  0.052598  0.086593  0.049199\n",
       "GOOG  0.054801  0.051679  0.049199  0.067953"
      ]
     },
     "execution_count": 7,
     "metadata": {},
     "output_type": "execute_result"
    }
   ],
   "source": [
    "# Create and show the annualized covariance matrix\n",
    "#positive cov shows stock prices move toghether and vice versa\n",
    "cov_matrix_annual = returns.cov()*252\n",
    "cov_matrix_annual"
   ]
  },
  {
   "cell_type": "code",
   "execution_count": 8,
   "id": "9205f4de",
   "metadata": {},
   "outputs": [
    {
     "data": {
      "text/plain": [
       "0.08867827769853444"
      ]
     },
     "execution_count": 8,
     "metadata": {},
     "output_type": "execute_result"
    }
   ],
   "source": [
    "# Calculate the overal portfolio variance\n",
    "port_variance = np.dot(weights.T,np.dot(cov_matrix_annual,weights))\n",
    "port_variance"
   ]
  },
  {
   "cell_type": "code",
   "execution_count": 9,
   "id": "b4a4a611",
   "metadata": {},
   "outputs": [
    {
     "data": {
      "text/plain": [
       "0.2977889818286339"
      ]
     },
     "execution_count": 9,
     "metadata": {},
     "output_type": "execute_result"
    }
   ],
   "source": [
    "# Calculate the portfolio volatility AKA standard deviation\n",
    "port_volatility = np.sqrt(port_variance)\n",
    "port_volatility"
   ]
  },
  {
   "cell_type": "code",
   "execution_count": 10,
   "id": "3e08034f",
   "metadata": {},
   "outputs": [
    {
     "data": {
      "text/plain": [
       "0.46596315247754666"
      ]
     },
     "execution_count": 10,
     "metadata": {},
     "output_type": "execute_result"
    }
   ],
   "source": [
    "# Calculate the annual portfolio return \n",
    "portfolio_simple_annual_return = np.sum(returns.mean()*weights)*252\n",
    "portfolio_simple_annual_return"
   ]
  },
  {
   "cell_type": "code",
   "execution_count": 11,
   "id": "f48d888d",
   "metadata": {},
   "outputs": [
    {
     "name": "stdout",
     "output_type": "stream",
     "text": [
      "Expected annual return: 47.0%\n",
      "Annual Volatility/ Risk: 30.0%\n",
      "Annual Variance: 9.0%\n"
     ]
    }
   ],
   "source": [
    "# Show the expected annual return, volatility (risk), and variance\n",
    "percent_var = str(round(port_variance,2)*100)+'%'\n",
    "percent_vola = str(round(port_volatility,2)*100)+'%'\n",
    "percent_ret = str(round(portfolio_simple_annual_return,2)*100)+'%'\n",
    "\n",
    "print('Expected annual return: '+percent_ret)\n",
    "print('Annual Volatility/ Risk: '+percent_vola)\n",
    "print('Annual Variance: '+percent_var)"
   ]
  },
  {
   "cell_type": "code",
   "execution_count": 12,
   "id": "acbaa69e",
   "metadata": {},
   "outputs": [],
   "source": [
    "from pypfopt.efficient_frontier import EfficientFrontier\n",
    "from pypfopt import risk_models\n",
    "from pypfopt import expected_returns \n",
    "from pypfopt import plotting"
   ]
  },
  {
   "cell_type": "code",
   "execution_count": 19,
   "id": "6a18f809",
   "metadata": {},
   "outputs": [
    {
     "name": "stdout",
     "output_type": "stream",
     "text": [
      "OrderedDict([('AMD', 0.41073), ('NFLX', 0.07594), ('AAPL', 0.41364), ('GOOG', 0.09969)])\n",
      "Expected annual return: 59.6%\n",
      "Annual volatility: 35.2%\n",
      "Sharpe Ratio: 1.64\n"
     ]
    },
    {
     "data": {
      "text/plain": [
       "(0.595512508878145, 0.3517420170284735, 1.6361778832682286)"
      ]
     },
     "execution_count": 19,
     "metadata": {},
     "output_type": "execute_result"
    }
   ],
   "source": [
    "# Portfolio Optimization\n",
    "\n",
    "# Calculate the expected returns and the annual sample covariance matrix for assets returns\n",
    "mu = expected_returns.mean_historical_return(df)\n",
    "S = risk_models.sample_cov(df)\n",
    "\n",
    "# Optimize for max sharpe ratio\n",
    "ef = EfficientFrontier(mu,S,weight_bounds=(None,None))\n",
    "ef.add_constraint(lambda w: w[0]+w[1]+w[2]+w[3]==1)\n",
    "weights = ef.max_sharpe()\n",
    "cleaned_weights = ef.clean_weights()\n",
    "print(cleaned_weights)\n",
    "ef.portfolio_performance(verbose=True)"
   ]
  },
  {
   "cell_type": "code",
   "execution_count": 20,
   "id": "22ae7f1b",
   "metadata": {},
   "outputs": [
    {
     "name": "stdout",
     "output_type": "stream",
     "text": [
      "Discrete allocation:  {'AMD': 16, 'NFLX': 1, 'AAPL': 14}\n",
      "Funds remaining: $54.92\n"
     ]
    }
   ],
   "source": [
    "# Get the discrete allocation of each share per stock\n",
    "from pypfopt.discrete_allocation import DiscreteAllocation, get_latest_prices\n",
    "\n",
    "latest_prices=get_latest_prices(df)\n",
    "weights = cleaned_weights\n",
    "da = DiscreteAllocation(weights,latest_prices,total_portfolio_value=5000)\n",
    "allocation,leftover=da.lp_portfolio()\n",
    "print('Discrete allocation: ',allocation)\n",
    "print('Funds remaining: ${:.2f}'.format(leftover))"
   ]
  },
  {
   "cell_type": "code",
   "execution_count": 21,
   "id": "654436f3",
   "metadata": {},
   "outputs": [
    {
     "ename": "InstantiationError",
     "evalue": "The objective function was changed after the initial optimization. Please create a new instance instead.",
     "output_type": "error",
     "traceback": [
      "\u001b[0;31m---------------------------------------------------------------------------\u001b[0m",
      "\u001b[0;31mInstantiationError\u001b[0m                        Traceback (most recent call last)",
      "\u001b[0;32m<ipython-input-21-a74d0e5bf9a5>\u001b[0m in \u001b[0;36m<module>\u001b[0;34m\u001b[0m\n\u001b[1;32m      9\u001b[0m \u001b[0mef\u001b[0m\u001b[0;34m.\u001b[0m\u001b[0madd_constraint\u001b[0m\u001b[0;34m(\u001b[0m\u001b[0;32mlambda\u001b[0m \u001b[0mw\u001b[0m\u001b[0;34m:\u001b[0m \u001b[0mw\u001b[0m\u001b[0;34m[\u001b[0m\u001b[0;36m0\u001b[0m\u001b[0;34m]\u001b[0m\u001b[0;34m+\u001b[0m\u001b[0mw\u001b[0m\u001b[0;34m[\u001b[0m\u001b[0;36m1\u001b[0m\u001b[0;34m]\u001b[0m\u001b[0;34m+\u001b[0m\u001b[0mw\u001b[0m\u001b[0;34m[\u001b[0m\u001b[0;36m2\u001b[0m\u001b[0;34m]\u001b[0m\u001b[0;34m+\u001b[0m\u001b[0mw\u001b[0m\u001b[0;34m[\u001b[0m\u001b[0;36m3\u001b[0m\u001b[0;34m]\u001b[0m \u001b[0;34m==\u001b[0m \u001b[0;36m1\u001b[0m\u001b[0;34m)\u001b[0m\u001b[0;34m\u001b[0m\u001b[0;34m\u001b[0m\u001b[0m\n\u001b[1;32m     10\u001b[0m \u001b[0mplotting\u001b[0m\u001b[0;34m.\u001b[0m\u001b[0mplot_efficient_frontier\u001b[0m\u001b[0;34m(\u001b[0m\u001b[0mef\u001b[0m\u001b[0;34m)\u001b[0m\u001b[0;34m\u001b[0m\u001b[0;34m\u001b[0m\u001b[0m\n\u001b[0;32m---> 11\u001b[0;31m \u001b[0mweights\u001b[0m \u001b[0;34m=\u001b[0m \u001b[0mef\u001b[0m\u001b[0;34m.\u001b[0m\u001b[0mmax_sharpe\u001b[0m\u001b[0;34m(\u001b[0m\u001b[0;34m)\u001b[0m\u001b[0;34m\u001b[0m\u001b[0;34m\u001b[0m\u001b[0m\n\u001b[0m\u001b[1;32m     12\u001b[0m \u001b[0mcleaned_weights\u001b[0m \u001b[0;34m=\u001b[0m \u001b[0mef\u001b[0m\u001b[0;34m.\u001b[0m\u001b[0mclean_weights\u001b[0m\u001b[0;34m(\u001b[0m\u001b[0;34m)\u001b[0m\u001b[0;34m\u001b[0m\u001b[0;34m\u001b[0m\u001b[0m\n\u001b[1;32m     13\u001b[0m \u001b[0mprint\u001b[0m\u001b[0;34m(\u001b[0m\u001b[0mcleaned_weights\u001b[0m\u001b[0;34m)\u001b[0m\u001b[0;34m\u001b[0m\u001b[0;34m\u001b[0m\u001b[0m\n",
      "\u001b[0;32m~/marketENV/lib/python3.6/site-packages/pypfopt/efficient_frontier/efficient_frontier.py\u001b[0m in \u001b[0;36mmax_sharpe\u001b[0;34m(self, risk_free_rate)\u001b[0m\n\u001b[1;32m    286\u001b[0m         ] + new_constraints\n\u001b[1;32m    287\u001b[0m \u001b[0;34m\u001b[0m\u001b[0m\n\u001b[0;32m--> 288\u001b[0;31m         \u001b[0mself\u001b[0m\u001b[0;34m.\u001b[0m\u001b[0m_solve_cvxpy_opt_problem\u001b[0m\u001b[0;34m(\u001b[0m\u001b[0;34m)\u001b[0m\u001b[0;34m\u001b[0m\u001b[0;34m\u001b[0m\u001b[0m\n\u001b[0m\u001b[1;32m    289\u001b[0m         \u001b[0;31m# Inverse-transform\u001b[0m\u001b[0;34m\u001b[0m\u001b[0;34m\u001b[0m\u001b[0;34m\u001b[0m\u001b[0m\n\u001b[1;32m    290\u001b[0m         \u001b[0mself\u001b[0m\u001b[0;34m.\u001b[0m\u001b[0mweights\u001b[0m \u001b[0;34m=\u001b[0m \u001b[0;34m(\u001b[0m\u001b[0mself\u001b[0m\u001b[0;34m.\u001b[0m\u001b[0m_w\u001b[0m\u001b[0;34m.\u001b[0m\u001b[0mvalue\u001b[0m \u001b[0;34m/\u001b[0m \u001b[0mk\u001b[0m\u001b[0;34m.\u001b[0m\u001b[0mvalue\u001b[0m\u001b[0;34m)\u001b[0m\u001b[0;34m.\u001b[0m\u001b[0mround\u001b[0m\u001b[0;34m(\u001b[0m\u001b[0;36m16\u001b[0m\u001b[0;34m)\u001b[0m \u001b[0;34m+\u001b[0m \u001b[0;36m0.0\u001b[0m\u001b[0;34m\u001b[0m\u001b[0;34m\u001b[0m\u001b[0m\n",
      "\u001b[0;32m~/marketENV/lib/python3.6/site-packages/pypfopt/base_optimizer.py\u001b[0m in \u001b[0;36m_solve_cvxpy_opt_problem\u001b[0;34m(self)\u001b[0m\n\u001b[1;32m    280\u001b[0m                 \u001b[0;32mif\u001b[0m \u001b[0;32mnot\u001b[0m \u001b[0mself\u001b[0m\u001b[0;34m.\u001b[0m\u001b[0m_objective\u001b[0m\u001b[0;34m.\u001b[0m\u001b[0mid\u001b[0m \u001b[0;34m==\u001b[0m \u001b[0mself\u001b[0m\u001b[0;34m.\u001b[0m\u001b[0m_initial_objective\u001b[0m\u001b[0;34m:\u001b[0m\u001b[0;34m\u001b[0m\u001b[0;34m\u001b[0m\u001b[0m\n\u001b[1;32m    281\u001b[0m                     raise exceptions.InstantiationError(\n\u001b[0;32m--> 282\u001b[0;31m                         \u001b[0;34m\"The objective function was changed after the initial optimization. \"\u001b[0m\u001b[0;34m\u001b[0m\u001b[0;34m\u001b[0m\u001b[0m\n\u001b[0m\u001b[1;32m    283\u001b[0m                         \u001b[0;34m\"Please create a new instance instead.\"\u001b[0m\u001b[0;34m\u001b[0m\u001b[0;34m\u001b[0m\u001b[0m\n\u001b[1;32m    284\u001b[0m                     )\n",
      "\u001b[0;31mInstantiationError\u001b[0m: The objective function was changed after the initial optimization. Please create a new instance instead."
     ]
    },
    {
     "data": {
      "image/png": "[encoded data removed]",
      "text/plain": [
       "<Figure size 432x288 with 1 Axes>"
      ]
     },
     "metadata": {},
     "output_type": "display_data"
    }
   ],
   "source": [
    "# Portfolio Optimization\n",
    "\n",
    "# Calculate the expected returns and the annualized sample covariance matrix of asset returns\n",
    "mu = expected_returns.mean_historical_return(df)\n",
    "S = risk_models.sample_cov(df)\n",
    "\n",
    "# Optimize for maximum sharpe ratio\n",
    "ef = EfficientFrontier(mu,S,weight_bounds=(None,None))\n",
    "ef.add_constraint(lambda w: w[0]+w[1]+w[2]+w[3] == 1)\n",
    "plotting.plot_efficient_frontier(ef)\n",
    "weights = ef.max_sharpe()\n",
    "cleaned_weights = ef.clean_weights() \n",
    "print(cleaned_weights)\n",
    "ef.portfolio_performance(verbose=True)"
   ]
  },
  {
   "cell_type": "code",
   "execution_count": null,
   "id": "d3f18cec",
   "metadata": {},
   "outputs": [],
   "source": []
  }
 ],
 "metadata": {
  "kernelspec": {
   "display_name": "Python 3",
   "language": "python",
   "name": "python3"
  },
  "language_info": {
   "codemirror_mode": {
    "name": "ipython",
    "version": 3
   },
   "file_extension": ".py",
   "mimetype": "text/x-python",
   "name": "python",
   "nbconvert_exporter": "python",
   "pygments_lexer": "ipython3",
   "version": "3.6.9"
  }
 },
 "nbformat": 4,
 "nbformat_minor": 5
}
